{
 "cells": [
  {
   "cell_type": "markdown",
   "id": "a39ab8a2",
   "metadata": {},
   "source": [
    "## Load Data (With Cleaning)"
   ]
  },
  {
   "cell_type": "code",
   "execution_count": 2,
   "id": "cd63ca78",
   "metadata": {},
   "outputs": [],
   "source": [
    "from gdsc_cleaning import load_and_clean_gdsc\n",
    "excluded_columns = ['LN_IC50', 'AUC', 'Z_SCORE', 'DRUG_ID', 'COSMIC_ID', 'DRUG_NAME', 'CELL_LINE_NAME']\n",
    "df = load_and_clean_gdsc(excluded_columns=excluded_columns, drop_first=True)"
   ]
  },
  {
   "cell_type": "markdown",
   "id": "dcaf5eb0",
   "metadata": {},
   "source": [
    "## Regression with Packages"
   ]
  },
  {
   "cell_type": "code",
   "execution_count": 4,
   "id": "3ce1c8e5",
   "metadata": {},
   "outputs": [],
   "source": [
    "from sklearn.model_selection import train_test_split\n",
    "from sklearn.metrics import mean_squared_error, r2_score\n",
    "from sklearn.linear_model import LinearRegression as SKLinearReg\n",
    "from sklearn.tree import DecisionTreeRegressor as SKTreeReg\n",
    "from sklearn.ensemble import RandomForestRegressor as SKForestReg\n",
    "from sklearn.ensemble import GradientBoostingRegressor as SKGBReg"
   ]
  },
  {
   "cell_type": "code",
   "execution_count": null,
   "id": "a515c676",
   "metadata": {},
   "outputs": [
    {
     "name": "stdout",
     "output_type": "stream",
     "text": [
      "Linear Regression -- MSE: 2.1262, R2: 0.6944\n",
      "Decision Tree -- MSE: 2.2038, R2: 0.6832\n"
     ]
    }
   ],
   "source": [
    "target = 'LN_IC50'\n",
    "test_size = 0.2\n",
    "random_state = 42\n",
    "\n",
    "\n",
    "# Define X and y\n",
    "y = df[target]\n",
    "X = df.drop(columns=[c for c in excluded_columns if c in df.columns])\n",
    "\n",
    "# Train/test split\n",
    "X_train, X_test, y_train, y_test = train_test_split(\n",
    "    X, y, test_size=test_size, random_state=random_state\n",
    ")\n",
    "\n",
    "# Initialize models\n",
    "models = {\n",
    "    \"Linear Regression\": SKLinearReg(),\n",
    "    \"Decision Tree\": SKTreeReg(random_state=random_state),\n",
    "    \"Random Forest\": SKForestReg(n_estimators=5, random_state=random_state),\n",
    "    \"Gradient Boosting\": SKGBReg(n_estimators=5, learning_rate=0.1, random_state=random_state),\n",
    "}\n",
    "results = {}\n",
    "\n",
    "for name, model in models.items():\n",
    "    model.fit(X_train, y_train)\n",
    "    preds = model.predict(X_test)\n",
    "    mse = mean_squared_error(y_test, preds)\n",
    "    r2 = r2_score(y_test, preds)\n",
    "    results[name] = {\"MSE\": mse, \"R2\": r2}\n",
    "    print(f\"{name} -- MSE: {mse:.4f}, R2: {r2:.4f}\")\n"
   ]
  },
  {
   "cell_type": "markdown",
   "id": "c958157a",
   "metadata": {},
   "source": [
    "## Regression from Scratch"
   ]
  },
  {
   "cell_type": "code",
   "execution_count": 7,
   "id": "f44ddfd2",
   "metadata": {},
   "outputs": [],
   "source": [
    "from scratch_regression import LinearRegressionScratch, RandomForestRegressorScratch, GradientBoostingRegressorScratch"
   ]
  },
  {
   "cell_type": "code",
   "execution_count": null,
   "id": "1ea81d83",
   "metadata": {},
   "outputs": [
    {
     "name": "stdout",
     "output_type": "stream",
     "text": [
      "LinearRegressionScratch -- MSE: 2.1255, R2: 0.6945\n",
      "RandomForestScratch -- MSE: 2.1752, R2: 0.6873\n",
      "GradientBoostingRegressorScratch -- MSE: 5.7666, R2: 0.1710\n"
     ]
    }
   ],
   "source": [
    "# Initialize scratch models\n",
    "scratch_models = {\n",
    "    \"LinearRegressionScratch\": LinearRegressionScratch(),\n",
    "    \"RandomForestScratch\": RandomForestRegressorScratch(n_estimators=5, random_state=random_state),\n",
    "    \"GradientBoostingRegressorScratch\": GradientBoostingRegressorScratch(n_estimators=5, learning_rate=0.1, random_state=0)\n",
    "}\n",
    "\n",
    "scratch_results = {}\n",
    "\n",
    "for name, model in scratch_models.items():\n",
    "    model.fit(X_train, y_train)\n",
    "    preds = model.predict(X_test)\n",
    "    mse = mean_squared_error(y_test, preds)\n",
    "    r2 = r2_score(y_test, preds)\n",
    "    scratch_results[name] = {\"MSE\": mse, \"R2\": r2}\n",
    "    print(f\"{name} -- MSE: {mse:.4f}, R2: {r2:.4f}\")"
   ]
  }
 ],
 "metadata": {
  "kernelspec": {
   "display_name": "base",
   "language": "python",
   "name": "python3"
  },
  "language_info": {
   "codemirror_mode": {
    "name": "ipython",
    "version": 3
   },
   "file_extension": ".py",
   "mimetype": "text/x-python",
   "name": "python",
   "nbconvert_exporter": "python",
   "pygments_lexer": "ipython3",
   "version": "3.12.2"
  }
 },
 "nbformat": 4,
 "nbformat_minor": 5
}
